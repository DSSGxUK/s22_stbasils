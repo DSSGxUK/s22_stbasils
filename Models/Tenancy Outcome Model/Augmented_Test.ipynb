{
 "cells": [
  {
   "cell_type": "markdown",
   "id": "42c2856c",
   "metadata": {},
   "source": [
    "# Data Augmented"
   ]
  },
  {
   "cell_type": "markdown",
   "id": "79652eb0",
   "metadata": {},
   "source": [
    "## Data 2224"
   ]
  },
  {
   "cell_type": "code",
   "execution_count": 1,
   "id": "ae506ba6",
   "metadata": {},
   "outputs": [
    {
     "name": "stdout",
     "output_type": "stream",
     "text": [
      "Collecting imblearn\n",
      "  Downloading imblearn-0.0-py2.py3-none-any.whl (1.9 kB)\n",
      "Collecting imbalanced-learn\n",
      "  Downloading imbalanced_learn-0.9.1-py3-none-any.whl (199 kB)\n",
      "\u001b[K     |████████████████████████████████| 199 kB 617 kB/s eta 0:00:01\n",
      "\u001b[?25hRequirement already satisfied: numpy>=1.17.3 in /opt/conda/lib/python3.9/site-packages (from imbalanced-learn->imblearn) (1.20.3)\n",
      "Requirement already satisfied: threadpoolctl>=2.0.0 in /opt/conda/lib/python3.9/site-packages (from imbalanced-learn->imblearn) (3.0.0)\n",
      "Requirement already satisfied: scipy>=1.3.2 in /opt/conda/lib/python3.9/site-packages (from imbalanced-learn->imblearn) (1.7.1)\n",
      "Collecting scikit-learn>=1.1.0\n",
      "  Downloading scikit_learn-1.1.2-cp39-cp39-manylinux_2_17_x86_64.manylinux2014_x86_64.whl (30.8 MB)\n",
      "\u001b[K     |████████████████████████████████| 30.8 MB 11.4 MB/s eta 0:00:01\n",
      "\u001b[?25hRequirement already satisfied: joblib>=1.0.0 in /opt/conda/lib/python3.9/site-packages (from imbalanced-learn->imblearn) (1.0.1)\n",
      "Installing collected packages: scikit-learn, imbalanced-learn, imblearn\n",
      "  Attempting uninstall: scikit-learn\n",
      "    Found existing installation: scikit-learn 1.0\n",
      "    Uninstalling scikit-learn-1.0:\n",
      "      Successfully uninstalled scikit-learn-1.0\n",
      "Successfully installed imbalanced-learn-0.9.1 imblearn-0.0 scikit-learn-1.1.2\n"
     ]
    }
   ],
   "source": [
    "!pip install imblearn"
   ]
  },
  {
   "cell_type": "code",
   "execution_count": 2,
   "id": "47add28b",
   "metadata": {},
   "outputs": [],
   "source": [
    "from imblearn.over_sampling import SMOTE\n",
    "from imblearn.under_sampling import RandomUnderSampler\n",
    "from imblearn.pipeline import Pipeline"
   ]
  },
  {
   "cell_type": "code",
   "execution_count": 3,
   "id": "70631940",
   "metadata": {},
   "outputs": [],
   "source": [
    "#All import go here\n",
    "import pandas as pd\n",
    "import numpy as np\n",
    "import warnings\n",
    "warnings.filterwarnings('ignore')\n",
    "#Get and describe data\n",
    "path = '/home/workspace/files/aryan/Results/data_2224.csv'\n",
    "df = pd.read_csv(path)\n",
    "df = df[df['Result']!='Neutral']"
   ]
  },
  {
   "cell_type": "code",
   "execution_count": 8,
   "id": "b759c8a9",
   "metadata": {},
   "outputs": [
    {
     "name": "stdout",
     "output_type": "stream",
     "text": [
      "Results appear here!\n"
     ]
    }
   ],
   "source": [
    "#Check for the categories in each variable which don't contribute much of the total fraction\n",
    "var_with_more_categories = ['Immigration Status', 'Nationality', 'Marital Status', 'Religion', 'Economic Status', 'Scheme']\n",
    "for vari in var_with_more_categories:\n",
    "    print(df.value_counts(vari))\n",
    "    print(\"\\n\\n\")"
   ]
  },
  {
   "cell_type": "code",
   "execution_count": 9,
   "id": "1725cc20",
   "metadata": {},
   "outputs": [],
   "source": [
    "# Replace the categories with less than 5 occurence\n",
    "df1 = df.copy(deep=True)\n",
    "for vari in var_with_more_categories:\n",
    "    series = pd.value_counts(df1[vari])\n",
    "    mask = (series/series.sum() * 100).lt(0.5)\n",
    "    # To replace df['column'] use np.where I.e \n",
    "    df1[vari] = np.where(df1[vari].isin(series[mask].index),'fill',df1[vari])"
   ]
  },
  {
   "cell_type": "code",
   "execution_count": 10,
   "id": "3b191756",
   "metadata": {},
   "outputs": [
    {
     "name": "stdout",
     "output_type": "stream",
     "text": [
      "Results printed here!\n"
     ]
    }
   ],
   "source": [
    "#Print and chekc the replaced values\n",
    "for vari in var_with_more_categories:\n",
    "    print(df1.value_counts(vari))\n",
    "    print(\"\\n\\n\")"
   ]
  },
  {
   "cell_type": "code",
   "execution_count": 11,
   "id": "e936e9fa",
   "metadata": {},
   "outputs": [
    {
     "name": "stdout",
     "output_type": "stream",
     "text": [
      "1    1739\n",
      "0     281\n",
      "Name: Result, dtype: int64\n"
     ]
    }
   ],
   "source": [
    "from sklearn.preprocessing import LabelEncoder\n",
    "from sklearn.preprocessing import MinMaxScaler\n",
    "from sklearn.model_selection import train_test_split\n",
    "from sklearn.preprocessing import StandardScaler\n",
    "\n",
    "# Convert target label to numerical Data\n",
    "le = LabelEncoder()\n",
    "df1['Result'] = le.fit_transform(df1['Result'])\n",
    "print(df1['Result'].value_counts())\n",
    "#Separate training features from target\n",
    "X = df1.drop(['Result'], axis=1)\n",
    "y = df1['Result']\n",
    "\n",
    "\n",
    "####### \n",
    "#Train dataset = X\n",
    "#Test Dataset = y\n",
    "########\n",
    "#Drop the client number column \n",
    "X = X.drop(['Client Number','Num Sessions','Time per Session'],1)\n",
    "\n",
    "# Convert the following numerical labels from interger to float\n",
    "#float_array = X[[\"Time per Session\", \"Num Sessions\", \"Age at Start\"]].values.astype(float)\n",
    "\n",
    "# categorical features to be converted to One Hot Encoding\n",
    "categ = ['Gender', 'Immigration Status','Age at Start','Nationality', 'Religion',\n",
    "       'Marital Status','EET status', 'Sexual Orientation', 'Economic Status', 'Service Type', 'Area','Scheme']\n",
    "    \n",
    "# One Hot Encoding conversion\n",
    "X = pd.get_dummies(X, prefix_sep=\"_\", columns=categ)"
   ]
  },
  {
   "cell_type": "markdown",
   "id": "73e6f942",
   "metadata": {},
   "source": [
    "## Data 3041"
   ]
  },
  {
   "cell_type": "code",
   "execution_count": 149,
   "id": "98536cbd",
   "metadata": {},
   "outputs": [],
   "source": [
    "#All import go here\n",
    "import pandas as pd\n",
    "import numpy as np\n",
    "import warnings\n",
    "warnings.filterwarnings('ignore')"
   ]
  },
  {
   "cell_type": "code",
   "execution_count": 150,
   "id": "7a3b4235",
   "metadata": {},
   "outputs": [
    {
     "data": {
      "text/plain": [
       "Gender                             3\n",
       "Frequency                          4\n",
       "Immigration Status                20\n",
       "Nationality                       14\n",
       "Medical Issue                      2\n",
       "Local Connection                   3\n",
       "Acc Type prev                     23\n",
       "A1                                 3\n",
       "B1                                 5\n",
       "C1                                 4\n",
       "D1                                 3\n",
       "G1                                 3\n",
       "H1                                 3\n",
       "Full Assessment of Eligibility     4\n",
       "L1                                 3\n",
       "Marital Status                     9\n",
       "Sexual Orientation                 5\n",
       "Religion                          14\n",
       "Economic Status                   25\n",
       "EET status                         3\n",
       "Service Type                       4\n",
       "Area                               7\n",
       "Scheme                            49\n",
       "Result                             2\n",
       "dtype: int64"
      ]
     },
     "execution_count": 150,
     "metadata": {},
     "output_type": "execute_result"
    }
   ],
   "source": [
    "#Get and describe data\n",
    "path = '/home/workspace/files/aryan/Results/data_3041acc_Eco_NN.csv'\n",
    "df = pd.read_csv(path)\n",
    "df = df[df['Result']!='Neutral']\n",
    "#Drop these columns\n",
    "to_drop = ['Client Number','Salary/Income','Please List any Medications/Allergies','Communication/Language Barriers','Mental Health/Learning Disabilities',\n",
    "           'Is An Interpreter required','If Yes, please specify',\n",
    "           'Last Settled Address From:','Last Settled Address To:','If current accommodation is not the main applicants last settled home, Please describe the accommodation when last settled:',\n",
    "          'A2','B2','If Yes, what is the expected due by date','E1','E2','F1','F2','F3','G2','G From','G To','H2','H From',\n",
    "          'H To','H3','I1','I2','J1','Minutes Direct','Minutes InDirect', 'Age at Start']\n",
    "df = df.drop(to_drop,1)\n",
    "df.rename(columns = {'Do They Have Any Medical Issues':'Medical Issue',\n",
    "                     'Is An Interpreter required':'Intrptr Reqd',\n",
    "                     'Does the YP have a local Connection':'Local Connection',\n",
    "                     'Accommodation Type (Tenure at time of application)':'Acc Type prev'}, inplace = True)\n",
    "df.nunique()"
   ]
  },
  {
   "cell_type": "code",
   "execution_count": 151,
   "id": "c5d9ced9",
   "metadata": {},
   "outputs": [],
   "source": [
    "# Replace the categories with less than 5 occurence\n",
    "df1 = df.copy(deep=True)\n",
    "for vari in var_with_more_categories:\n",
    "    series = pd.value_counts(df1[vari])\n",
    "    mask = (series/series.sum() * 100).lt(1)\n",
    "    # To replace df['column'] use np.where I.e \n",
    "    df1[vari] = np.where(df1[vari].isin(series[mask].index),'fill',df1[vari])"
   ]
  },
  {
   "cell_type": "code",
   "execution_count": 159,
   "id": "47877f86",
   "metadata": {},
   "outputs": [
    {
     "name": "stdout",
     "output_type": "stream",
     "text": [
      "1    2315\n",
      "0     430\n",
      "Name: Result, dtype: int64\n"
     ]
    }
   ],
   "source": [
    "from sklearn.preprocessing import LabelEncoder\n",
    "from sklearn.preprocessing import MinMaxScaler\n",
    "from sklearn.model_selection import train_test_split\n",
    "from sklearn.preprocessing import StandardScaler\n",
    "\n",
    "# Convert target label to numerical Data\n",
    "le = LabelEncoder()\n",
    "df1['Result'] = le.fit_transform(df1['Result'])\n",
    "print(df1['Result'].value_counts())\n",
    "#Separate training features from target\n",
    "X = df1.drop(['Result'], axis=1)\n",
    "y = df1['Result']\n",
    "\n",
    "df_temp = df1[['Gender', 'Immigration Status','Nationality','Marital Status','EET status', 'Sexual Orientation', 'Economic Status', 'Service Type', 'Area','Scheme']]\n",
    "\n",
    "####### \n",
    "#Train dataset = X\n",
    "#Test Dataset = y\n",
    "########\n",
    "       \n",
    "# Convert the following numerical labels from interger to float\n",
    "#float_array = X[[\"Time per Session\", \"Num Sessions\", \"Age at Start\"]].values.astype(float)\n",
    "\n",
    "# categorical features to be converted to One Hot Encoding\n",
    "categ = ['Gender', 'Frequency', 'Immigration Status', 'Nationality',\n",
    "       'Medical Issue', 'Local Connection', 'Acc Type prev', 'A1', 'B1', 'C1',\n",
    "       'D1', 'G1', 'H1', 'Full Assessment of Eligibility', 'L1',\n",
    "       'Marital Status', 'Sexual Orientation', 'Religion', 'Economic Status',\n",
    "       'EET status', 'Service Type', 'Area', 'Scheme']\n",
    "categ1 = ['Gender', 'Immigration Status','Nationality','Marital Status','EET status', 'Sexual Orientation', 'Economic Status', 'Service Type', 'Area','Scheme']\n",
    "# One Hot Encoding conversion\n",
    "X = pd.get_dummies(df_temp, prefix_sep=\"_\", columns=categ1)\n",
    "\n",
    "    \n",
    "# scale our data \n",
    "#scaler = StandardScaler()\n",
    "#X = scaler.fit_transform(X)"
   ]
  },
  {
   "cell_type": "markdown",
   "id": "01a87a2d",
   "metadata": {},
   "source": [
    "### Train Test Split"
   ]
  },
  {
   "cell_type": "code",
   "execution_count": 8,
   "id": "f3373ade",
   "metadata": {},
   "outputs": [],
   "source": [
    "#Now split the data into train and test Split \n",
    "seed = 999\n",
    "X_Train, X_val, y_Train, y_val = train_test_split(X, y, stratify = y, test_size = 0.2, random_state=seed)"
   ]
  },
  {
   "cell_type": "code",
   "execution_count": 9,
   "id": "5b97501b",
   "metadata": {},
   "outputs": [
    {
     "data": {
      "text/plain": [
       "1    1391\n",
       "0     225\n",
       "Name: Result, dtype: int64"
      ]
     },
     "execution_count": 9,
     "metadata": {},
     "output_type": "execute_result"
    }
   ],
   "source": [
    "y_Train.value_counts()"
   ]
  },
  {
   "cell_type": "markdown",
   "id": "8a4e8a7d",
   "metadata": {},
   "source": [
    "### SMOTE "
   ]
  },
  {
   "cell_type": "code",
   "execution_count": 34,
   "id": "c8194425",
   "metadata": {},
   "outputs": [
    {
     "name": "stdout",
     "output_type": "stream",
     "text": [
      "0    973\n",
      "1    973\n",
      "Name: Result, dtype: int64\n"
     ]
    }
   ],
   "source": [
    "over = SMOTE(sampling_strategy=0.7, k_neighbors=4, random_state=11)\n",
    "under = RandomUnderSampler(sampling_strategy=1, random_state = 11)\n",
    "steps = [('over', over), ('under', under)]\n",
    "X1,y1= Pipeline(steps=steps).fit_resample(X_Train,y_Train)\n",
    "print(y1.value_counts())"
   ]
  },
  {
   "cell_type": "markdown",
   "id": "c8c73307",
   "metadata": {},
   "source": [
    "### Borderline SMOTE"
   ]
  },
  {
   "cell_type": "code",
   "execution_count": 37,
   "id": "d459870a",
   "metadata": {},
   "outputs": [],
   "source": [
    "from imblearn.over_sampling import BorderlineSMOTE\n",
    "oversample = BorderlineSMOTE()\n",
    "X1, y1 = oversample.fit_resample(X_Train, y_Train)"
   ]
  },
  {
   "cell_type": "code",
   "execution_count": 38,
   "id": "4666166f",
   "metadata": {},
   "outputs": [
    {
     "name": "stdout",
     "output_type": "stream",
     "text": [
      "1    1391\n",
      "0    1391\n",
      "Name: Result, dtype: int64\n",
      "1    348\n",
      "0     56\n",
      "Name: Result, dtype: int64\n"
     ]
    }
   ],
   "source": [
    "print(y1.value_counts())\n",
    "print(y_val.value_counts())"
   ]
  },
  {
   "cell_type": "markdown",
   "id": "5a74b363",
   "metadata": {},
   "source": [
    "### Borderline SMOTE with SVM"
   ]
  },
  {
   "cell_type": "code",
   "execution_count": 40,
   "id": "1fdc98d0",
   "metadata": {},
   "outputs": [],
   "source": [
    "from imblearn.over_sampling import SVMSMOTE\n",
    "\n",
    "oversample = SVMSMOTE()\n",
    "X1, y1 = oversample.fit_resample(X_Train, y_Train)"
   ]
  },
  {
   "cell_type": "code",
   "execution_count": 41,
   "id": "25cab291",
   "metadata": {},
   "outputs": [
    {
     "data": {
      "text/plain": [
       "1    1391\n",
       "0    1391\n",
       "Name: Result, dtype: int64"
      ]
     },
     "execution_count": 41,
     "metadata": {},
     "output_type": "execute_result"
    }
   ],
   "source": [
    "y1.value_counts()"
   ]
  },
  {
   "cell_type": "markdown",
   "id": "6b4c8c10",
   "metadata": {},
   "source": [
    "### ADASYN"
   ]
  },
  {
   "cell_type": "code",
   "execution_count": 31,
   "id": "eaa2d204",
   "metadata": {},
   "outputs": [],
   "source": [
    "from imblearn.over_sampling import ADASYN\n",
    "\n",
    "oversample = ADASYN()\n",
    "X1,y1 = oversample.fit_resample(X_Train, y_Train)"
   ]
  },
  {
   "cell_type": "markdown",
   "id": "b9fd2aa4",
   "metadata": {},
   "source": [
    "## Training the model  "
   ]
  },
  {
   "cell_type": "markdown",
   "id": "d1b53d22",
   "metadata": {},
   "source": [
    "### Random Forest with balanced weights"
   ]
  },
  {
   "cell_type": "code",
   "execution_count": 14,
   "id": "36e1c09d",
   "metadata": {},
   "outputs": [
    {
     "name": "stdout",
     "output_type": "stream",
     "text": [
      "Cross- Validation:\n",
      "F1_macro Score:0.882051481830334  Accuracy:0.8821536703798913\n",
      "\n",
      "\n",
      "\n",
      "The External test results are as follows:\n",
      "              precision    recall  f1-score   support\n",
      "\n",
      "           0       0.38      0.34      0.36        56\n",
      "           1       0.90      0.91      0.90       348\n",
      "\n",
      "    accuracy                           0.83       404\n",
      "   macro avg       0.64      0.63      0.63       404\n",
      "weighted avg       0.82      0.83      0.83       404\n",
      "\n"
     ]
    }
   ],
   "source": [
    "#Training the final Random forest model\n",
    "from sklearn.ensemble import RandomForestClassifier\n",
    "from sklearn.metrics import f1_score\n",
    "from sklearn.metrics import auc\n",
    "from sklearn.model_selection import RepeatedStratifiedKFold\n",
    "from sklearn.metrics import plot_roc_curve\n",
    "from sklearn.model_selection import cross_val_score\n",
    "from sklearn.metrics import confusion_matrix, accuracy_score\n",
    "from sklearn.metrics import classification_report\n",
    "\n",
    "\n",
    "def to_labels(pos_probs, threshold):\n",
    "    return (pos_probs >= threshold).astype('int')\n",
    "\n",
    "#this loop is used for fixing the weights in the random forest model\n",
    "for i in np.arange(0.1,1,0.01):\n",
    "    model = RandomForestClassifier(class_weight='balanced', random_state=seed)\n",
    "    cv = RepeatedStratifiedKFold(n_splits=5, n_repeats=3, random_state=seed)\n",
    "    scores1 = cross_val_score(model, X1,y1, scoring='f1_macro', cv=cv, n_jobs=-1)\n",
    "    scores2 = cross_val_score(model, X1,y1, scoring='accuracy', cv=cv, n_jobs=-1)\n",
    "    scores1 = np.mean(scores1)\n",
    "    scores2 = np.mean(scores2)\n",
    "    model = model.fit(X1, y1)\n",
    "    print(\"Cross- Validation:\")\n",
    "    print(\"F1_macro Score:{}  Accuracy:{}\\n\\n\\n\".format(scores1, scores2))\n",
    "    \n",
    "    y_pred = model.predict(X_val)\n",
    "    print(\"The External test results are as follows:\")\n",
    "    print(classification_report(y_val, y_pred))\n",
    "    break\n",
    "model_rf = model"
   ]
  },
  {
   "cell_type": "code",
   "execution_count": 237,
   "id": "adee1cc2",
   "metadata": {},
   "outputs": [
    {
     "name": "stdout",
     "output_type": "stream",
     "text": [
      "After Threshold Tuning, results are:\n",
      "\n",
      "F1_macro:0.631 Threshold=0.62\n",
      "\n",
      "\n",
      "\n",
      "The confusion matrix for maxium score is :\n",
      "[[ 26  30]\n",
      " [ 53 295]]\n"
     ]
    }
   ],
   "source": [
    "# Do the Threshold tunign and check for the possible result we can get at any threshold\n",
    "\n",
    "yhat = model.predict_proba(X_val)\n",
    "# keep probabilities for the positive outcome only\n",
    "probs = yhat[:, 1]\n",
    "# define thresholds\n",
    "thresholds = np.arange(0, 1, 0.001)\n",
    "# evaluate each threshold\n",
    "scores = [f1_score(y_val, to_labels(probs, t), average='macro') for t in thresholds]\n",
    "\n",
    "# get best threshold\n",
    "ix = np.argmax(scores)\n",
    "\n",
    "max_score_on_val = scores[ix]\n",
    "#final_model_RF = model\n",
    "y_pred = np.zeros((len(X_val),1), np.uint8)\n",
    "for j in range(len(X_val)):\n",
    "    y_pred[j] = to_labels(probs[j], thresholds[ix])\n",
    "confusion = confusion_matrix(y_val, y_pred)\n",
    "print(\"After Threshold Tuning, results are:\\n\")\n",
    "print('F1_macro:%.3f Threshold=%.2f' % (scores[ix],thresholds[ix]))\n",
    "print(\"\\n\\n\")\n",
    "print(\"The confusion matrix for maxium score is :\")\n",
    "print(confusion)"
   ]
  },
  {
   "cell_type": "markdown",
   "id": "8d767511",
   "metadata": {},
   "source": [
    "### Random Forest ( Train and Test with different class weights )"
   ]
  },
  {
   "cell_type": "code",
   "execution_count": 303,
   "id": "186ab2fa",
   "metadata": {},
   "outputs": [
    {
     "name": "stdout",
     "output_type": "stream",
     "text": [
      "Cross- Validation:\n",
      "0_weight:0.5  F1_macro Score:0.9170467797183293  Accuracy:0.9170857927661462\n",
      "\n",
      "Cross- Validation:\n",
      "0_weight:0.6  F1_macro Score:0.9182549370405702  Accuracy:0.9182850488011745\n",
      "\n",
      "Cross- Validation:\n",
      "0_weight:0.8999999999999999  F1_macro Score:0.9201892606881664  Accuracy:0.9202000697467162\n",
      "\n"
     ]
    }
   ],
   "source": [
    "max_score = 0.0\n",
    "#this loop is used for fixing the weights in the random forest model\n",
    "for i in np.arange(0.5,1,0.1):\n",
    "    model = RandomForestClassifier(class_weight={0:i,1:(1-i)}, random_state=seed)\n",
    "    cv = RepeatedStratifiedKFold(n_splits=5, n_repeats=3, random_state=seed)\n",
    "    scores1 = cross_val_score(model, X1,y1, scoring='f1_macro', cv=cv, n_jobs=-1)\n",
    "    scores2 = cross_val_score(model, X1,y1, scoring='accuracy', cv=cv, n_jobs=-1)\n",
    "    scores1 = np.mean(scores1)\n",
    "    scores2 = np.mean(scores2)\n",
    "    if(scores1>max_score):\n",
    "        max_score= scores1\n",
    "        model = model.fit(X1, y1)\n",
    "        print(\"Cross- Validation:\")\n",
    "        print(\"0_weight:{}  F1_macro Score:{}  Accuracy:{}\\n\".format(i, scores1, scores2))\n",
    "model_rf_weighted = model"
   ]
  },
  {
   "cell_type": "code",
   "execution_count": 239,
   "id": "980a039e",
   "metadata": {},
   "outputs": [
    {
     "name": "stdout",
     "output_type": "stream",
     "text": [
      "After Threshold Tuning, results are:\n",
      "\n",
      "F1_macro:0.661 Threshold=0.49\n",
      "\n",
      "\n",
      "\n",
      "The confusion matrix for maxium score is :\n",
      "[[ 22  34]\n",
      " [ 29 319]]\n",
      "              precision    recall  f1-score   support\n",
      "\n",
      "           0       0.43      0.39      0.41        56\n",
      "           1       0.90      0.92      0.91       348\n",
      "\n",
      "    accuracy                           0.84       404\n",
      "   macro avg       0.67      0.65      0.66       404\n",
      "weighted avg       0.84      0.84      0.84       404\n",
      "\n"
     ]
    }
   ],
   "source": [
    "# Do the Threshold tunign and check for the possible result we can get at any threshold\n",
    "model = RandomForestClassifier(class_weight={0:0.9,1:0.1}, random_state=seed)\n",
    "model = model.fit(X1, y1)\n",
    "yhat = model.predict_proba(X_val)\n",
    "# keep probabilities for the positive outcome only\n",
    "probs = yhat[:, 1]\n",
    "# define thresholds\n",
    "thresholds = np.arange(0, 1, 0.0001)\n",
    "# evaluate each threshold\n",
    "scores = [f1_score(y_val, to_labels(probs, t), average='macro') for t in thresholds]\n",
    "\n",
    "# get best threshold\n",
    "ix = np.argmax(scores)\n",
    "\n",
    "max_score_on_val = scores[ix]\n",
    "#final_model_RF = model\n",
    "y_pred = np.zeros((len(X_val),1), np.uint8)\n",
    "for j in range(len(X_val)):\n",
    "    y_pred[j] = to_labels(probs[j], thresholds[ix])\n",
    "confusion = confusion_matrix(y_val, y_pred)\n",
    "print(\"After Threshold Tuning, results are:\\n\")\n",
    "print('F1_macro:%.3f Threshold=%.2f' % (scores[ix],thresholds[ix]))\n",
    "print(\"\\n\\n\")\n",
    "print(\"The confusion matrix for maxium score is :\")\n",
    "print(confusion)\n",
    "print(classification_report(y_val, y_pred))"
   ]
  },
  {
   "cell_type": "markdown",
   "id": "1beb5615",
   "metadata": {},
   "source": [
    "### XG Boost "
   ]
  },
  {
   "cell_type": "code",
   "execution_count": 15,
   "id": "e811e32f",
   "metadata": {},
   "outputs": [
    {
     "name": "stdout",
     "output_type": "stream",
     "text": [
      "Collecting xgboost\n",
      "  Downloading xgboost-1.6.1-py3-none-manylinux2014_x86_64.whl (192.9 MB)\n",
      "\u001b[K     |████████████████████████████████| 192.9 MB 252 kB/s  eta 0:00:01\n",
      "\u001b[?25hRequirement already satisfied: numpy in /opt/conda/lib/python3.9/site-packages (from xgboost) (1.20.3)\n",
      "Requirement already satisfied: scipy in /opt/conda/lib/python3.9/site-packages (from xgboost) (1.7.1)\n",
      "Installing collected packages: xgboost\n",
      "Successfully installed xgboost-1.6.1\n"
     ]
    }
   ],
   "source": [
    "!pip install xgboost"
   ]
  },
  {
   "cell_type": "code",
   "execution_count": 26,
   "id": "b7e4aee7",
   "metadata": {},
   "outputs": [
    {
     "name": "stdout",
     "output_type": "stream",
     "text": [
      "j1 F1 Score:0.91176023513521\n",
      "Weight:1.00 F1:0.912    Threshold=0.70, VafF1=0.6451\n"
     ]
    }
   ],
   "source": [
    "# Trainign teh XGBoost model\n",
    "from xgboost import XGBClassifier\n",
    "\n",
    "from sklearn.metrics import f1_score\n",
    "\n",
    "X1.rename( columns={'Economic Status_Part Time Work (<30 hrs)':'Economic Status_Part Time Work lt 30 hrs' } ,inplace=True) \n",
    "X_val.rename( columns={'Economic Status_Part Time Work (<30 hrs)':'Economic Status_Part Time Work lt 30 hrs' } ,inplace=True) \n",
    "\n",
    "\n",
    "def to_labels(pos_probs, threshold):\n",
    "    return (pos_probs >= threshold).astype('int')\n",
    "\n",
    "max_score_on_val = 0.0\n",
    "\n",
    "\n",
    "for j in np.arange(1,10,1):\n",
    "    model = XGBClassifier(scale_pos_weight=1, random_state =99)\n",
    "    cv = RepeatedStratifiedKFold(n_splits=5, n_repeats=3, random_state=12)\n",
    "    scores = cross_val_score(model, X1,y1, scoring='f1_macro', cv=cv, n_jobs=-1)\n",
    "    score = np.mean(scores)\n",
    "    model = model.fit(X1, y1)\n",
    "    print(\"j{} F1 Score:{}\".format(j,score))\n",
    "\n",
    "    yhat = model.predict_proba(X_val)\n",
    "    # keep probabilities for the positive outcome only\n",
    "    probs = yhat[:, 1]\n",
    "    # define thresholds\n",
    "    thresholds = np.arange(0, 1, 0.001)\n",
    "    # evaluate each threshold\n",
    "    scores = [f1_score(y_val, to_labels(probs, t), average='macro') for t in thresholds]\n",
    "    # get best threshold\n",
    "    ix = np.argmax(scores)\n",
    "    if(scores[ix]>max_score_on_val):\n",
    "        print('Weight:%.2f F1:%.3f    Threshold=%.2f, VafF1=%.4f' % (j,score, thresholds[ix], scores[ix]))\n",
    "        max_score_on_val = scores[ix]\n",
    "        final_model_XGB = model\n",
    "    break\n",
    "model_xg = model"
   ]
  },
  {
   "cell_type": "code",
   "execution_count": 27,
   "id": "d8adac6b",
   "metadata": {},
   "outputs": [
    {
     "name": "stdout",
     "output_type": "stream",
     "text": [
      "After Threshold Tuning, results are:\n",
      "\n",
      "F1_macro:0.645 Threshold=0.70\n",
      "\n",
      "\n",
      "\n",
      "The confusion matrix for maxium score is :\n",
      "[[ 25  31]\n",
      " [ 44 304]]\n",
      "              precision    recall  f1-score   support\n",
      "\n",
      "           0       0.36      0.45      0.40        56\n",
      "           1       0.91      0.87      0.89       348\n",
      "\n",
      "    accuracy                           0.81       404\n",
      "   macro avg       0.63      0.66      0.65       404\n",
      "weighted avg       0.83      0.81      0.82       404\n",
      "\n"
     ]
    }
   ],
   "source": [
    "# Do the Threshold tunign and check for the possible result we can get at any threshold\n",
    "\n",
    "yhat = final_model_XGB.predict_proba(X_val)\n",
    "# keep probabilities for the positive outcome only\n",
    "probs = yhat[:, 1]\n",
    "# define thresholds\n",
    "thresholds = np.arange(0, 1, 0.001)\n",
    "# evaluate each threshold\n",
    "scores = [f1_score(y_val, to_labels(probs, t), average='macro') for t in thresholds]\n",
    "\n",
    "# get best threshold\n",
    "ix = np.argmax(scores)\n",
    "\n",
    "max_score_on_val = scores[ix]\n",
    "#final_model_RF = model\n",
    "y_pred = np.zeros((len(X_val),1), np.uint8)\n",
    "for j in range(len(X_val)):\n",
    "    y_pred[j] = to_labels(probs[j], thresholds[ix])\n",
    "confusion = confusion_matrix(y_val, y_pred)\n",
    "print(\"After Threshold Tuning, results are:\\n\")\n",
    "print('F1_macro:%.3f Threshold=%.2f' % (scores[ix],thresholds[ix]))\n",
    "print(\"\\n\\n\")\n",
    "print(\"The confusion matrix for maxium score is :\")\n",
    "print(confusion)\n",
    "print(classification_report(y_val, y_pred))"
   ]
  },
  {
   "cell_type": "markdown",
   "id": "e310d29e",
   "metadata": {},
   "source": [
    "### Plotting the AUC for each model"
   ]
  },
  {
   "cell_type": "code",
   "execution_count": 305,
   "id": "0cf98d6a",
   "metadata": {
    "collapsed": true
   },
   "outputs": [
    {
     "data": {
      "image/png": "[encoded data removed]",
      "text/plain": [
       "<Figure size 1080x576 with 1 Axes>"
      ]
     },
     "metadata": {
      "needs_background": "light"
     },
     "output_type": "display_data"
    }
   ],
   "source": [
    "#ROC Curve\n",
    "from sklearn.metrics import roc_curve\n",
    "from matplotlib import pyplot as plt\n",
    "from sklearn.metrics import auc\n",
    "\n",
    "y_pred_prob1 = model_rf.predict_proba(X_val)[:,1]\n",
    "fpr1 , tpr1, thresholds1 = roc_curve(y_val, y_pred_prob1)\n",
    "roc_auc1 = auc(fpr1, tpr1)\n",
    "\n",
    "y_pred_prob2 = model_xg_weighted.predict_proba(X_val)[:,1]\n",
    "fpr2 , tpr2, thresholds2 = roc_curve(y_val, y_pred_prob2)\n",
    "roc_auc2 = auc(fpr2, tpr2)\n",
    "\n",
    "\n",
    "y_pred_prob3 = model_xg.predict_proba(X_val)[:,1]\n",
    "fpr3 , tpr3, thresholds3 = roc_curve(y_val, y_pred_prob3)\n",
    "roc_auc3 = auc(fpr3, tpr3)\n",
    "\n",
    "\n",
    "plt.plot([0,1],[0,1], 'k--')\n",
    "plt.plot(fpr1, tpr1, label= \"Random Forest \"+'AUC = %0.2f' % roc_auc1)\n",
    "plt.plot(fpr2, tpr2, label= \"Random Forest- W\"+'AUC = %0.2f' % roc_auc2)\n",
    "plt.plot(fpr3, tpr3, label= \"XG Boost\"+'AUC = %0.2f' % roc_auc3)\n",
    "plt.legend()\n",
    "plt.xlabel(\"FPR\")\n",
    "plt.ylabel(\"TPR\")\n",
    "plt.title('Receiver Operating Characteristic')\n",
    "plt.show()\n",
    "plt.rcParams[\"figure.figsize\"] = (15,8)\n",
    "plt.rcParams.update({'font.size': 26})\n",
    "\n"
   ]
  },
  {
   "cell_type": "code",
   "execution_count": 285,
   "id": "99cd794f",
   "metadata": {
    "collapsed": true
   },
   "outputs": [
    {
     "data": {
      "image/png": "[encoded data removed]",
      "text/plain": [
       "<Figure size 1080x576 with 1 Axes>"
      ]
     },
     "metadata": {
      "needs_background": "light"
     },
     "output_type": "display_data"
    }
   ],
   "source": [
    "#ROC Curve\n",
    "from sklearn.metrics import precision_recall_curve\n",
    "from matplotlib import pyplot as plt\n",
    "\n",
    "\n",
    "y_pred_prob1 = model_rf.predict_proba(X_val)[:,1]\n",
    "p1 , r1, thresholds1 = precision_recall_curve(y_val, y_pred_prob1)\n",
    "\n",
    "y_pred_prob2 = model_rf_weighted.predict_proba(X_val)[:,1]\n",
    "p2 , r2, thresholds1 = precision_recall_curve(y_val, y_pred_prob2)\n",
    "\n",
    "\n",
    "y_pred_prob3 = model_xg.predict_proba(X_val)[:,1]\n",
    "p3 , r3, thresholds1 = precision_recall_curve(y_val, y_pred_prob3)\n",
    "\n",
    "\n",
    "plt.plot(r1, p1,marker='.', label= \"Random Forest\")\n",
    "plt.plot(r2, p2,marker='.', label= \"Random Forest- Weighted\")\n",
    "plt.plot(r3, p3,marker='.', label= \"XG Boost\")\n",
    "plt.legend()\n",
    "plt.xlabel(\"Recall\")\n",
    "plt.ylabel(\"Precision\")\n",
    "plt.title('Receiver Operating Characteristic')\n",
    "plt.show()\n",
    "plt.rcParams[\"figure.figsize\"] = (15,8)\n",
    "plt.rcParams.update({'font.size': 26})"
   ]
  },
  {
   "cell_type": "markdown",
   "id": "449740ef",
   "metadata": {},
   "source": [
    "### Neural Network"
   ]
  },
  {
   "cell_type": "code",
   "execution_count": 15,
   "id": "f035632d",
   "metadata": {
    "collapsed": true
   },
   "outputs": [
    {
     "name": "stdout",
     "output_type": "stream",
     "text": [
      "Collecting tensorflow\n",
      "  Downloading tensorflow-2.9.1-cp39-cp39-manylinux_2_17_x86_64.manylinux2014_x86_64.whl (511.7 MB)\n",
      "\u001b[K     |████████████████████████████████| 511.7 MB 5.4 kB/s  eta 0:00:01     |████████████▏                   | 195.5 MB 12.4 MB/s eta 0:00:26     |████████████████████████        | 382.1 MB 14.2 MB/s eta 0:00:10     |██████████████████████████████▋ | 488.8 MB 12.4 MB/s eta 0:00:02     |███████████████████████████████▊| 507.4 MB 14.8 MB/s eta 0:00:01\n",
      "\u001b[?25hCollecting grpcio<2.0,>=1.24.3\n",
      "  Downloading grpcio-1.47.0-cp39-cp39-manylinux_2_17_x86_64.manylinux2014_x86_64.whl (4.5 MB)\n",
      "\u001b[K     |████████████████████████████████| 4.5 MB 67.8 MB/s eta 0:00:01\n",
      "\u001b[?25hCollecting tensorflow-io-gcs-filesystem>=0.23.1\n",
      "  Downloading tensorflow_io_gcs_filesystem-0.26.0-cp39-cp39-manylinux_2_12_x86_64.manylinux2010_x86_64.whl (2.4 MB)\n",
      "\u001b[K     |████████████████████████████████| 2.4 MB 15.5 MB/s eta 0:00:01\n",
      "\u001b[?25hCollecting wrapt>=1.11.0\n",
      "  Downloading wrapt-1.14.1-cp39-cp39-manylinux_2_5_x86_64.manylinux1_x86_64.manylinux_2_17_x86_64.manylinux2014_x86_64.whl (77 kB)\n",
      "\u001b[K     |████████████████████████████████| 77 kB 12.4 MB/s eta 0:00:01\n",
      "\u001b[?25hRequirement already satisfied: typing-extensions>=3.6.6 in /opt/conda/lib/python3.9/site-packages (from tensorflow) (3.10.0.2)\n",
      "Requirement already satisfied: protobuf<3.20,>=3.9.2 in /opt/conda/lib/python3.9/site-packages (from tensorflow) (3.18.0)\n",
      "Collecting gast<=0.4.0,>=0.2.1\n",
      "  Downloading gast-0.4.0-py3-none-any.whl (9.8 kB)\n",
      "Collecting tensorflow-estimator<2.10.0,>=2.9.0rc0\n",
      "  Downloading tensorflow_estimator-2.9.0-py2.py3-none-any.whl (438 kB)\n",
      "\u001b[K     |████████████████████████████████| 438 kB 17.6 MB/s eta 0:00:01\n",
      "\u001b[?25hCollecting google-pasta>=0.1.1\n",
      "  Downloading google_pasta-0.2.0-py3-none-any.whl (57 kB)\n",
      "\u001b[K     |████████████████████████████████| 57 kB 12.1 MB/s eta 0:00:01\n",
      "\u001b[?25hCollecting termcolor>=1.1.0\n",
      "  Downloading termcolor-1.1.0.tar.gz (3.9 kB)\n",
      "Requirement already satisfied: numpy>=1.20 in /opt/conda/lib/python3.9/site-packages (from tensorflow) (1.20.3)\n",
      "Requirement already satisfied: setuptools in /opt/conda/lib/python3.9/site-packages (from tensorflow) (58.0.4)\n",
      "Collecting absl-py>=1.0.0\n",
      "  Downloading absl_py-1.1.0-py3-none-any.whl (123 kB)\n",
      "\u001b[K     |████████████████████████████████| 123 kB 17.4 MB/s eta 0:00:01\n",
      "\u001b[?25hRequirement already satisfied: six>=1.12.0 in /opt/conda/lib/python3.9/site-packages (from tensorflow) (1.16.0)\n",
      "Collecting libclang>=13.0.0\n",
      "  Downloading libclang-14.0.1-py2.py3-none-manylinux1_x86_64.whl (14.5 MB)\n",
      "\u001b[K     |████████████████████████████████| 14.5 MB 10.7 MB/s eta 0:00:01\n",
      "\u001b[?25hCollecting keras-preprocessing>=1.1.1\n",
      "  Downloading Keras_Preprocessing-1.1.2-py2.py3-none-any.whl (42 kB)\n",
      "\u001b[K     |████████████████████████████████| 42 kB 3.4 MB/s eta 0:00:01\n",
      "\u001b[?25hCollecting opt-einsum>=2.3.2\n",
      "  Downloading opt_einsum-3.3.0-py3-none-any.whl (65 kB)\n",
      "\u001b[K     |████████████████████████████████| 65 kB 9.4 MB/s  eta 0:00:01\n",
      "\u001b[?25hRequirement already satisfied: packaging in /opt/conda/lib/python3.9/site-packages (from tensorflow) (21.0)\n",
      "Requirement already satisfied: h5py>=2.9.0 in /opt/conda/lib/python3.9/site-packages (from tensorflow) (3.4.0)\n",
      "Collecting astunparse>=1.6.0\n",
      "  Downloading astunparse-1.6.3-py2.py3-none-any.whl (12 kB)\n",
      "Collecting keras<2.10.0,>=2.9.0rc0\n",
      "  Downloading keras-2.9.0-py2.py3-none-any.whl (1.6 MB)\n",
      "\u001b[K     |████████████████████████████████| 1.6 MB 6.5 MB/s eta 0:00:01\n",
      "\u001b[?25hCollecting tensorboard<2.10,>=2.9\n",
      "  Downloading tensorboard-2.9.1-py3-none-any.whl (5.8 MB)\n",
      "\u001b[K     |████████████████████████████████| 5.8 MB 16.2 MB/s eta 0:00:01\n",
      "\u001b[?25hCollecting flatbuffers<2,>=1.12\n",
      "  Downloading flatbuffers-1.12-py2.py3-none-any.whl (15 kB)\n",
      "Requirement already satisfied: wheel<1.0,>=0.23.0 in /opt/conda/lib/python3.9/site-packages (from astunparse>=1.6.0->tensorflow) (0.37.0)\n",
      "Collecting werkzeug>=1.0.1\n",
      "  Downloading Werkzeug-2.1.2-py3-none-any.whl (224 kB)\n",
      "\u001b[K     |████████████████████████████████| 224 kB 18.2 MB/s eta 0:00:01\n",
      "\u001b[?25hCollecting tensorboard-plugin-wit>=1.6.0\n",
      "  Downloading tensorboard_plugin_wit-1.8.1-py3-none-any.whl (781 kB)\n",
      "\u001b[K     |████████████████████████████████| 781 kB 18.8 MB/s eta 0:00:01\n",
      "\u001b[?25hCollecting markdown>=2.6.8\n",
      "  Downloading Markdown-3.3.7-py3-none-any.whl (97 kB)\n",
      "\u001b[K     |████████████████████████████████| 97 kB 10.2 MB/s eta 0:00:01\n",
      "\u001b[?25hCollecting tensorboard-data-server<0.7.0,>=0.6.0\n",
      "  Downloading tensorboard_data_server-0.6.1-py3-none-manylinux2010_x86_64.whl (4.9 MB)\n",
      "\u001b[K     |████████████████████████████████| 4.9 MB 9.0 MB/s eta 0:00:01\n",
      "\u001b[?25hCollecting google-auth-oauthlib<0.5,>=0.4.1\n",
      "  Downloading google_auth_oauthlib-0.4.6-py2.py3-none-any.whl (18 kB)\n",
      "Collecting google-auth<3,>=1.6.3\n",
      "  Downloading google_auth-2.9.1-py2.py3-none-any.whl (167 kB)\n",
      "\u001b[K     |████████████████████████████████| 167 kB 20.6 MB/s eta 0:00:01\n",
      "\u001b[?25hRequirement already satisfied: requests<3,>=2.21.0 in /opt/conda/lib/python3.9/site-packages (from tensorboard<2.10,>=2.9->tensorflow) (2.26.0)\n",
      "Collecting cachetools<6.0,>=2.0.0\n",
      "  Downloading cachetools-5.2.0-py3-none-any.whl (9.3 kB)\n",
      "Collecting pyasn1-modules>=0.2.1\n",
      "  Downloading pyasn1_modules-0.2.8-py2.py3-none-any.whl (155 kB)\n",
      "\u001b[K     |████████████████████████████████| 155 kB 19.9 MB/s eta 0:00:01\n",
      "\u001b[?25hCollecting rsa<5,>=3.1.4\n",
      "  Downloading rsa-4.8-py3-none-any.whl (39 kB)\n",
      "Collecting requests-oauthlib>=0.7.0\n",
      "  Downloading requests_oauthlib-1.3.1-py2.py3-none-any.whl (23 kB)\n",
      "Requirement already satisfied: importlib-metadata>=4.4 in /opt/conda/lib/python3.9/site-packages (from markdown>=2.6.8->tensorboard<2.10,>=2.9->tensorflow) (4.8.1)\n",
      "Requirement already satisfied: zipp>=0.5 in /opt/conda/lib/python3.9/site-packages (from importlib-metadata>=4.4->markdown>=2.6.8->tensorboard<2.10,>=2.9->tensorflow) (3.5.0)\n",
      "Collecting pyasn1<0.5.0,>=0.4.6\n",
      "  Downloading pyasn1-0.4.8-py2.py3-none-any.whl (77 kB)\n",
      "\u001b[K     |████████████████████████████████| 77 kB 11.6 MB/s eta 0:00:01\n",
      "\u001b[?25hRequirement already satisfied: certifi>=2017.4.17 in /opt/conda/lib/python3.9/site-packages (from requests<3,>=2.21.0->tensorboard<2.10,>=2.9->tensorflow) (2022.5.18.1)\n",
      "Requirement already satisfied: urllib3<1.27,>=1.21.1 in /opt/conda/lib/python3.9/site-packages (from requests<3,>=2.21.0->tensorboard<2.10,>=2.9->tensorflow) (1.26.7)\n",
      "Requirement already satisfied: charset-normalizer~=2.0.0 in /opt/conda/lib/python3.9/site-packages (from requests<3,>=2.21.0->tensorboard<2.10,>=2.9->tensorflow) (2.0.0)\n",
      "Requirement already satisfied: idna<4,>=2.5 in /opt/conda/lib/python3.9/site-packages (from requests<3,>=2.21.0->tensorboard<2.10,>=2.9->tensorflow) (3.1)\n",
      "Requirement already satisfied: oauthlib>=3.0.0 in /opt/conda/lib/python3.9/site-packages (from requests-oauthlib>=0.7.0->google-auth-oauthlib<0.5,>=0.4.1->tensorboard<2.10,>=2.9->tensorflow) (3.1.1)\n",
      "Requirement already satisfied: pyparsing>=2.0.2 in /opt/conda/lib/python3.9/site-packages (from packaging->tensorflow) (2.4.7)\n",
      "Building wheels for collected packages: termcolor\n",
      "  Building wheel for termcolor (setup.py) ... \u001b[?25ldone\n",
      "\u001b[?25h  Created wheel for termcolor: filename=termcolor-1.1.0-py3-none-any.whl size=4847 sha256=645761ed3261fd6da47d9d8a3ea68de82a1e1dd63d863eb0db758a1d9718dc4c\n",
      "  Stored in directory: /home/jovyan/.cache/pip/wheels/b6/0d/90/0d1bbd99855f99cb2f6c2e5ff96f8023fad8ec367695f7d72d\n",
      "Successfully built termcolor\n",
      "Installing collected packages: pyasn1, rsa, pyasn1-modules, cachetools, requests-oauthlib, google-auth, werkzeug, tensorboard-plugin-wit, tensorboard-data-server, markdown, grpcio, google-auth-oauthlib, absl-py, wrapt, termcolor, tensorflow-io-gcs-filesystem, tensorflow-estimator, tensorboard, opt-einsum, libclang, keras-preprocessing, keras, google-pasta, gast, flatbuffers, astunparse, tensorflow\n",
      "Successfully installed absl-py-1.1.0 astunparse-1.6.3 cachetools-5.2.0 flatbuffers-1.12 gast-0.4.0 google-auth-2.9.1 google-auth-oauthlib-0.4.6 google-pasta-0.2.0 grpcio-1.47.0 keras-2.9.0 keras-preprocessing-1.1.2 libclang-14.0.1 markdown-3.3.7 opt-einsum-3.3.0 pyasn1-0.4.8 pyasn1-modules-0.2.8 requests-oauthlib-1.3.1 rsa-4.8 tensorboard-2.9.1 tensorboard-data-server-0.6.1 tensorboard-plugin-wit-1.8.1 tensorflow-2.9.1 tensorflow-estimator-2.9.0 tensorflow-io-gcs-filesystem-0.26.0 termcolor-1.1.0 werkzeug-2.1.2 wrapt-1.14.1\n"
     ]
    },
    {
     "name": "stdout",
     "output_type": "stream",
     "text": [
      "Collecting scikeras\n",
      "  Downloading scikeras-0.8.0-py3-none-any.whl (27 kB)\n",
      "Requirement already satisfied: scikit-learn>=1.0.0 in /opt/conda/lib/python3.9/site-packages (from scikeras) (1.1.1)\n",
      "Requirement already satisfied: packaging<22.0,>=0.21 in /opt/conda/lib/python3.9/site-packages (from scikeras) (21.0)\n",
      "Requirement already satisfied: pyparsing>=2.0.2 in /opt/conda/lib/python3.9/site-packages (from packaging<22.0,>=0.21->scikeras) (2.4.7)\n",
      "Requirement already satisfied: threadpoolctl>=2.0.0 in /opt/conda/lib/python3.9/site-packages (from scikit-learn>=1.0.0->scikeras) (3.0.0)\n",
      "Requirement already satisfied: joblib>=1.0.0 in /opt/conda/lib/python3.9/site-packages (from scikit-learn>=1.0.0->scikeras) (1.0.1)\n",
      "Requirement already satisfied: numpy>=1.17.3 in /opt/conda/lib/python3.9/site-packages (from scikit-learn>=1.0.0->scikeras) (1.20.3)\n",
      "Requirement already satisfied: scipy>=1.3.2 in /opt/conda/lib/python3.9/site-packages (from scikit-learn>=1.0.0->scikeras) (1.7.1)\n",
      "Installing collected packages: scikeras\n",
      "Successfully installed scikeras-0.8.0\n"
     ]
    },
    {
     "name": "stderr",
     "output_type": "stream",
     "text": [
      "2022-07-14 15:13:55.343572: W tensorflow/stream_executor/platform/default/dso_loader.cc:64] Could not load dynamic library 'libcudart.so.11.0'; dlerror: libcudart.so.11.0: cannot open shared object file: No such file or directory; LD_LIBRARY_PATH: /opt/conda/jre/lib/amd64/server/:\n",
      "2022-07-14 15:13:55.343614: I tensorflow/stream_executor/cuda/cudart_stub.cc:29] Ignore above cudart dlerror if you do not have a GPU set up on your machine.\n"
     ]
    }
   ],
   "source": [
    "!pip install tensorflow\n",
    "!pip install scikeras\n",
    "\n",
    "from tensorflow.keras.models import Sequential\n",
    "from tensorflow.keras.layers import Dense\n",
    "from tensorflow.keras.layers import Dropout\n",
    "from scikeras.wrappers import KerasClassifier\n",
    "from sklearn.model_selection import cross_val_score\n",
    "from sklearn.preprocessing import LabelEncoder\n",
    "from sklearn.model_selection import StratifiedKFold\n",
    "from sklearn.preprocessing import StandardScaler\n",
    "from sklearn.pipeline import Pipeline"
   ]
  },
  {
   "cell_type": "code",
   "execution_count": 109,
   "id": "7b857383",
   "metadata": {},
   "outputs": [],
   "source": [
    "def create_baseline():\n",
    "    # create model\n",
    "    model = Sequential()\n",
    "    model.add(Dense(8, input_shape=(112,), activation='relu'))\n",
    "    model.add(Dense(32, activation='relu'))\n",
    "    model.add(Dropout(0.2))\n",
    "    model.add(Dense(64, activation='relu'))\n",
    "    model.add(Dense(128,activation='relu'))\n",
    "    model.add(Dropout(0.2))\n",
    "    model.add(Dense(256,activation='relu'))\n",
    "    model.add(Dropout(0.2))\n",
    "    model.add(Dense(128,activation='relu'))\n",
    "    model.add(Dropout(0.2))\n",
    "    model.add(Dense(64, activation='relu'))\n",
    "    model.add(Dense(32, activation='relu'))\n",
    "    model.add(Dropout(0.2))\n",
    "    model.add(Dense(8, activation='relu'))\n",
    "    model.add(Dense(1, activation='sigmoid'))\n",
    "    # Compile model\n",
    "    return model"
   ]
  },
  {
   "cell_type": "code",
   "execution_count": 110,
   "id": "54237190",
   "metadata": {},
   "outputs": [
    {
     "name": "stdout",
     "output_type": "stream",
     "text": [
      "1    1391\n",
      "0    1391\n",
      "Name: Result, dtype: int64\n",
      "1    348\n",
      "0     56\n",
      "Name: Result, dtype: int64\n"
     ]
    }
   ],
   "source": [
    "print(y1.value_counts())\n",
    "print(y_val.value_counts())"
   ]
  },
  {
   "cell_type": "code",
   "execution_count": 111,
   "id": "9cc69e92",
   "metadata": {
    "collapsed": true
   },
   "outputs": [
    {
     "name": "stdout",
     "output_type": "stream",
     "text": [
      "Epoch 1/100\n",
      "742/742 [==============================] - 5s 4ms/step - loss: 0.3890 - accuracy: 0.8710 - val_loss: 0.0301 - val_accuracy: 0.9767\n",
      "Epoch 2/100\n",
      "742/742 [==============================] - 3s 3ms/step - loss: 0.3321 - accuracy: 0.8804 - val_loss: 0.0344 - val_accuracy: 0.9659\n",
      "Epoch 3/100\n",
      "742/742 [==============================] - 3s 3ms/step - loss: 0.2827 - accuracy: 0.8867 - val_loss: 0.0356 - val_accuracy: 0.9695\n",
      "Epoch 4/100\n",
      "742/742 [==============================] - 3s 3ms/step - loss: 0.2720 - accuracy: 0.8912 - val_loss: 0.0488 - val_accuracy: 0.9605\n",
      "Epoch 5/100\n",
      "742/742 [==============================] - 3s 3ms/step - loss: 0.2595 - accuracy: 0.8948 - val_loss: 0.0289 - val_accuracy: 0.9767\n",
      "Epoch 6/100\n",
      "742/742 [==============================] - 3s 3ms/step - loss: 0.2630 - accuracy: 0.8935 - val_loss: 0.0280 - val_accuracy: 0.9731\n",
      "Epoch 7/100\n",
      "742/742 [==============================] - 3s 3ms/step - loss: 0.2442 - accuracy: 0.8930 - val_loss: 0.0391 - val_accuracy: 0.9659\n",
      "Epoch 8/100\n",
      "742/742 [==============================] - 3s 3ms/step - loss: 0.2611 - accuracy: 0.8939 - val_loss: 0.0297 - val_accuracy: 0.9659\n",
      "Epoch 9/100\n",
      "742/742 [==============================] - 3s 3ms/step - loss: 0.2445 - accuracy: 0.8935 - val_loss: 0.0297 - val_accuracy: 0.9659\n",
      "Epoch 10/100\n",
      "742/742 [==============================] - 3s 4ms/step - loss: 0.2302 - accuracy: 0.9016 - val_loss: 0.0438 - val_accuracy: 0.9713\n",
      "Epoch 11/100\n",
      "742/742 [==============================] - 3s 4ms/step - loss: 0.2271 - accuracy: 0.9061 - val_loss: 0.0398 - val_accuracy: 0.9677\n",
      "Epoch 12/100\n",
      "742/742 [==============================] - 3s 4ms/step - loss: 0.2204 - accuracy: 0.9065 - val_loss: 0.0494 - val_accuracy: 0.9713\n",
      "Epoch 13/100\n",
      "742/742 [==============================] - 3s 4ms/step - loss: 0.2234 - accuracy: 0.9097 - val_loss: 0.0319 - val_accuracy: 0.9767\n",
      "Epoch 14/100\n",
      "742/742 [==============================] - 3s 4ms/step - loss: 0.2152 - accuracy: 0.9052 - val_loss: 0.0270 - val_accuracy: 0.9910\n",
      "Epoch 15/100\n",
      "742/742 [==============================] - 3s 4ms/step - loss: 0.2064 - accuracy: 0.9151 - val_loss: 0.0516 - val_accuracy: 0.9659\n",
      "Epoch 16/100\n",
      "742/742 [==============================] - 3s 3ms/step - loss: 0.1993 - accuracy: 0.9133 - val_loss: 0.0416 - val_accuracy: 0.9677\n",
      "Epoch 17/100\n",
      "742/742 [==============================] - 3s 3ms/step - loss: 0.1963 - accuracy: 0.9110 - val_loss: 0.0422 - val_accuracy: 0.9677\n",
      "Epoch 18/100\n",
      "742/742 [==============================] - 3s 3ms/step - loss: 0.1882 - accuracy: 0.9187 - val_loss: 0.0439 - val_accuracy: 0.9623\n",
      "Epoch 19/100\n",
      "742/742 [==============================] - 3s 3ms/step - loss: 0.1922 - accuracy: 0.9164 - val_loss: 0.0374 - val_accuracy: 0.9749\n",
      "Epoch 20/100\n",
      "742/742 [==============================] - 3s 3ms/step - loss: 0.1950 - accuracy: 0.9227 - val_loss: 0.0284 - val_accuracy: 0.9767\n",
      "Epoch 21/100\n",
      "742/742 [==============================] - 3s 3ms/step - loss: 0.1976 - accuracy: 0.9160 - val_loss: 0.0457 - val_accuracy: 0.9641\n",
      "Epoch 22/100\n",
      "742/742 [==============================] - 3s 3ms/step - loss: 0.1900 - accuracy: 0.9249 - val_loss: 0.0297 - val_accuracy: 0.9892\n",
      "Epoch 23/100\n",
      "742/742 [==============================] - 3s 3ms/step - loss: 0.1896 - accuracy: 0.9178 - val_loss: 0.0364 - val_accuracy: 0.9659\n",
      "Epoch 24/100\n",
      "742/742 [==============================] - 3s 3ms/step - loss: 0.1888 - accuracy: 0.9218 - val_loss: 0.0350 - val_accuracy: 0.9731\n",
      "Epoch 25/100\n",
      "742/742 [==============================] - 3s 3ms/step - loss: 0.1960 - accuracy: 0.9222 - val_loss: 0.0392 - val_accuracy: 0.9695\n",
      "Epoch 26/100\n",
      "742/742 [==============================] - 3s 3ms/step - loss: 0.1772 - accuracy: 0.9218 - val_loss: 0.0300 - val_accuracy: 0.9874\n",
      "Epoch 27/100\n",
      "742/742 [==============================] - 3s 3ms/step - loss: 0.1794 - accuracy: 0.9254 - val_loss: 0.0417 - val_accuracy: 0.9623\n",
      "Epoch 28/100\n",
      "742/742 [==============================] - 3s 3ms/step - loss: 0.1712 - accuracy: 0.9299 - val_loss: 0.0291 - val_accuracy: 0.9767\n",
      "Epoch 29/100\n",
      "742/742 [==============================] - 3s 4ms/step - loss: 0.1778 - accuracy: 0.9236 - val_loss: 0.0354 - val_accuracy: 0.9659\n",
      "Epoch 30/100\n",
      "742/742 [==============================] - 3s 3ms/step - loss: 0.1632 - accuracy: 0.9285 - val_loss: 0.0336 - val_accuracy: 0.9713\n",
      "Epoch 31/100\n",
      "742/742 [==============================] - 3s 4ms/step - loss: 0.1627 - accuracy: 0.9272 - val_loss: 0.0238 - val_accuracy: 0.9767\n",
      "Epoch 32/100\n",
      "742/742 [==============================] - 3s 4ms/step - loss: 0.2333 - accuracy: 0.9245 - val_loss: 0.0234 - val_accuracy: 0.9785\n",
      "Epoch 33/100\n",
      "742/742 [==============================] - 3s 3ms/step - loss: 0.1600 - accuracy: 0.9330 - val_loss: 0.0210 - val_accuracy: 0.9964\n",
      "Epoch 34/100\n",
      "742/742 [==============================] - 3s 4ms/step - loss: 0.1646 - accuracy: 0.9276 - val_loss: 0.0290 - val_accuracy: 0.9677\n",
      "Epoch 35/100\n",
      "742/742 [==============================] - 3s 3ms/step - loss: 0.1547 - accuracy: 0.9326 - val_loss: 0.0239 - val_accuracy: 0.9785\n",
      "Epoch 36/100\n",
      "742/742 [==============================] - 3s 3ms/step - loss: 0.1594 - accuracy: 0.9339 - val_loss: 0.0237 - val_accuracy: 0.9803\n",
      "Epoch 37/100\n",
      "742/742 [==============================] - 3s 3ms/step - loss: 0.1645 - accuracy: 0.9330 - val_loss: 0.0217 - val_accuracy: 0.9928\n",
      "Epoch 38/100\n",
      "742/742 [==============================] - 3s 3ms/step - loss: 0.1575 - accuracy: 0.9326 - val_loss: 0.0194 - val_accuracy: 1.0000\n",
      "Epoch 39/100\n",
      "742/742 [==============================] - 3s 3ms/step - loss: 0.1518 - accuracy: 0.9303 - val_loss: 0.0202 - val_accuracy: 1.0000\n",
      "Epoch 40/100\n",
      "742/742 [==============================] - 3s 3ms/step - loss: 0.1537 - accuracy: 0.9353 - val_loss: 0.0314 - val_accuracy: 0.9731\n",
      "Epoch 41/100\n",
      "742/742 [==============================] - 3s 3ms/step - loss: 0.1490 - accuracy: 0.9398 - val_loss: 0.0252 - val_accuracy: 0.9910\n",
      "Epoch 42/100\n",
      "742/742 [==============================] - 3s 3ms/step - loss: 0.1437 - accuracy: 0.9375 - val_loss: 0.0219 - val_accuracy: 0.9982\n",
      "Epoch 43/100\n",
      "742/742 [==============================] - 3s 3ms/step - loss: 0.1595 - accuracy: 0.9339 - val_loss: 0.0279 - val_accuracy: 0.9677\n",
      "Epoch 44/100\n",
      "742/742 [==============================] - 3s 4ms/step - loss: 0.1542 - accuracy: 0.9308 - val_loss: 0.0246 - val_accuracy: 0.9767\n",
      "Epoch 45/100\n",
      "742/742 [==============================] - 3s 4ms/step - loss: 0.1595 - accuracy: 0.9321 - val_loss: 0.0226 - val_accuracy: 0.9785\n",
      "Epoch 46/100\n",
      "742/742 [==============================] - 3s 4ms/step - loss: 0.1476 - accuracy: 0.9317 - val_loss: 0.0240 - val_accuracy: 0.9749\n",
      "Epoch 47/100\n",
      "742/742 [==============================] - 3s 3ms/step - loss: 0.1403 - accuracy: 0.9456 - val_loss: 0.0231 - val_accuracy: 0.9785\n",
      "Epoch 48/100\n",
      "742/742 [==============================] - 3s 3ms/step - loss: 0.1399 - accuracy: 0.9389 - val_loss: 0.0192 - val_accuracy: 1.0000\n",
      "Epoch 49/100\n",
      "742/742 [==============================] - 3s 4ms/step - loss: 0.1543 - accuracy: 0.9344 - val_loss: 0.0258 - val_accuracy: 0.9677\n",
      "Epoch 50/100\n",
      "742/742 [==============================] - 3s 3ms/step - loss: 0.1468 - accuracy: 0.9402 - val_loss: 0.0325 - val_accuracy: 0.9713\n",
      "Epoch 51/100\n",
      "742/742 [==============================] - 3s 3ms/step - loss: 0.1439 - accuracy: 0.9366 - val_loss: 0.0211 - val_accuracy: 1.0000\n",
      "Epoch 52/100\n",
      "742/742 [==============================] - 3s 3ms/step - loss: 0.1355 - accuracy: 0.9416 - val_loss: 0.0191 - val_accuracy: 1.0000\n",
      "Epoch 53/100\n",
      "742/742 [==============================] - 3s 3ms/step - loss: 0.1449 - accuracy: 0.9416 - val_loss: 0.0222 - val_accuracy: 0.9946\n",
      "Epoch 54/100\n",
      "742/742 [==============================] - 3s 3ms/step - loss: 0.1390 - accuracy: 0.9380 - val_loss: 0.0236 - val_accuracy: 0.9982\n",
      "Epoch 55/100\n",
      "742/742 [==============================] - 3s 3ms/step - loss: 0.1396 - accuracy: 0.9380 - val_loss: 0.0242 - val_accuracy: 0.9695\n",
      "Epoch 56/100\n",
      "742/742 [==============================] - 3s 3ms/step - loss: 0.1315 - accuracy: 0.9456 - val_loss: 0.0195 - val_accuracy: 0.9982\n",
      "Epoch 57/100\n",
      "742/742 [==============================] - 3s 3ms/step - loss: 0.1466 - accuracy: 0.9416 - val_loss: 0.0285 - val_accuracy: 0.9677\n"
     ]
    },
    {
     "name": "stdout",
     "output_type": "stream",
     "text": [
      "Epoch 58/100\n",
      "742/742 [==============================] - 3s 3ms/step - loss: 0.1351 - accuracy: 0.9407 - val_loss: 0.0243 - val_accuracy: 0.9731\n",
      "Epoch 59/100\n",
      "742/742 [==============================] - 3s 3ms/step - loss: 0.1470 - accuracy: 0.9357 - val_loss: 0.0249 - val_accuracy: 0.9713\n",
      "Epoch 60/100\n",
      "742/742 [==============================] - 3s 3ms/step - loss: 0.1365 - accuracy: 0.9402 - val_loss: 0.0206 - val_accuracy: 0.9982\n",
      "Epoch 61/100\n",
      "742/742 [==============================] - 3s 3ms/step - loss: 0.1287 - accuracy: 0.9497 - val_loss: 0.0189 - val_accuracy: 1.0000\n",
      "Epoch 62/100\n",
      "742/742 [==============================] - 3s 3ms/step - loss: 0.1306 - accuracy: 0.9492 - val_loss: 0.0241 - val_accuracy: 0.9713\n",
      "Epoch 63/100\n",
      "742/742 [==============================] - 3s 3ms/step - loss: 0.1271 - accuracy: 0.9465 - val_loss: 0.0108 - val_accuracy: 1.0000\n",
      "Epoch 64/100\n",
      "742/742 [==============================] - 3s 3ms/step - loss: 0.1428 - accuracy: 0.9348 - val_loss: 0.0205 - val_accuracy: 0.9982\n",
      "Epoch 65/100\n",
      "742/742 [==============================] - 3s 3ms/step - loss: 0.1338 - accuracy: 0.9429 - val_loss: 0.0194 - val_accuracy: 0.9982\n",
      "Epoch 66/100\n",
      "742/742 [==============================] - 3s 3ms/step - loss: 0.1293 - accuracy: 0.9434 - val_loss: 0.0223 - val_accuracy: 0.9928\n",
      "Epoch 67/100\n",
      "742/742 [==============================] - 3s 3ms/step - loss: 0.1281 - accuracy: 0.9501 - val_loss: 0.0123 - val_accuracy: 1.0000\n",
      "Epoch 68/100\n",
      "742/742 [==============================] - 3s 3ms/step - loss: 0.1367 - accuracy: 0.9443 - val_loss: 0.0178 - val_accuracy: 1.0000\n",
      "Epoch 69/100\n",
      "742/742 [==============================] - 3s 3ms/step - loss: 0.1275 - accuracy: 0.9510 - val_loss: 0.0182 - val_accuracy: 0.9982\n",
      "Epoch 70/100\n",
      "742/742 [==============================] - 3s 4ms/step - loss: 0.1287 - accuracy: 0.9470 - val_loss: 0.0200 - val_accuracy: 0.9982\n",
      "Epoch 71/100\n",
      "742/742 [==============================] - 3s 4ms/step - loss: 0.1296 - accuracy: 0.9483 - val_loss: 0.0265 - val_accuracy: 0.9767\n",
      "Epoch 72/100\n",
      "742/742 [==============================] - 3s 3ms/step - loss: 0.1188 - accuracy: 0.9488 - val_loss: 0.0192 - val_accuracy: 0.9982\n",
      "Epoch 73/100\n",
      "742/742 [==============================] - 3s 3ms/step - loss: 0.1347 - accuracy: 0.9416 - val_loss: 0.0268 - val_accuracy: 0.9677\n",
      "Epoch 74/100\n",
      "742/742 [==============================] - 3s 3ms/step - loss: 0.1236 - accuracy: 0.9470 - val_loss: 0.0259 - val_accuracy: 0.9964\n",
      "Epoch 75/100\n",
      "742/742 [==============================] - 3s 3ms/step - loss: 0.1294 - accuracy: 0.9492 - val_loss: 0.0205 - val_accuracy: 0.9982\n",
      "Epoch 76/100\n",
      "742/742 [==============================] - 3s 3ms/step - loss: 0.1393 - accuracy: 0.9510 - val_loss: 0.0186 - val_accuracy: 0.9982\n",
      "Epoch 77/100\n",
      "742/742 [==============================] - 3s 4ms/step - loss: 0.1171 - accuracy: 0.9506 - val_loss: 0.0109 - val_accuracy: 1.0000\n",
      "Epoch 78/100\n",
      "742/742 [==============================] - 3s 4ms/step - loss: 0.1133 - accuracy: 0.9497 - val_loss: 0.0183 - val_accuracy: 1.0000\n",
      "Epoch 79/100\n",
      "742/742 [==============================] - 3s 4ms/step - loss: 0.1266 - accuracy: 0.9515 - val_loss: 0.0202 - val_accuracy: 0.9982\n",
      "Epoch 80/100\n",
      "742/742 [==============================] - 3s 4ms/step - loss: 0.1229 - accuracy: 0.9506 - val_loss: 0.0144 - val_accuracy: 1.0000\n",
      "Epoch 81/100\n",
      "742/742 [==============================] - 3s 4ms/step - loss: 0.1183 - accuracy: 0.9533 - val_loss: 0.0143 - val_accuracy: 1.0000\n",
      "Epoch 82/100\n",
      "742/742 [==============================] - 3s 3ms/step - loss: 0.1219 - accuracy: 0.9542 - val_loss: 0.0204 - val_accuracy: 0.9982\n",
      "Epoch 83/100\n",
      "742/742 [==============================] - 3s 4ms/step - loss: 0.1085 - accuracy: 0.9537 - val_loss: 0.0191 - val_accuracy: 1.0000\n",
      "Epoch 84/100\n",
      "742/742 [==============================] - 3s 3ms/step - loss: 0.1151 - accuracy: 0.9555 - val_loss: 0.0135 - val_accuracy: 1.0000\n",
      "Epoch 85/100\n",
      "742/742 [==============================] - 3s 3ms/step - loss: 0.1173 - accuracy: 0.9546 - val_loss: 0.0149 - val_accuracy: 0.9964\n",
      "Epoch 86/100\n",
      "742/742 [==============================] - 3s 3ms/step - loss: 0.1246 - accuracy: 0.9456 - val_loss: 0.0196 - val_accuracy: 1.0000\n",
      "Epoch 87/100\n",
      "742/742 [==============================] - 3s 4ms/step - loss: 0.1169 - accuracy: 0.9533 - val_loss: 0.0158 - val_accuracy: 0.9982\n",
      "Epoch 88/100\n",
      "742/742 [==============================] - 3s 3ms/step - loss: 0.1225 - accuracy: 0.9524 - val_loss: 0.0209 - val_accuracy: 0.9982\n",
      "Epoch 89/100\n",
      "742/742 [==============================] - 3s 3ms/step - loss: 0.1207 - accuracy: 0.9470 - val_loss: 0.0175 - val_accuracy: 0.9982\n",
      "Epoch 90/100\n",
      "742/742 [==============================] - 3s 3ms/step - loss: 0.1104 - accuracy: 0.9528 - val_loss: 0.0206 - val_accuracy: 0.9982\n",
      "Epoch 91/100\n",
      "742/742 [==============================] - 3s 3ms/step - loss: 0.1139 - accuracy: 0.9497 - val_loss: 0.0208 - val_accuracy: 0.9982\n",
      "Epoch 92/100\n",
      "742/742 [==============================] - 3s 3ms/step - loss: 0.1223 - accuracy: 0.9533 - val_loss: 0.0215 - val_accuracy: 0.9964\n",
      "Epoch 93/100\n",
      "742/742 [==============================] - 3s 3ms/step - loss: 0.1134 - accuracy: 0.9537 - val_loss: 0.0257 - val_accuracy: 0.9928\n",
      "Epoch 94/100\n",
      "742/742 [==============================] - 3s 3ms/step - loss: 0.1308 - accuracy: 0.9501 - val_loss: 0.0227 - val_accuracy: 0.9982\n",
      "Epoch 95/100\n",
      "742/742 [==============================] - 3s 3ms/step - loss: 0.1137 - accuracy: 0.9528 - val_loss: 0.0288 - val_accuracy: 0.9964\n",
      "Epoch 96/100\n",
      "742/742 [==============================] - 3s 3ms/step - loss: 0.1386 - accuracy: 0.9461 - val_loss: 0.0199 - val_accuracy: 0.9982\n",
      "Epoch 97/100\n",
      "742/742 [==============================] - 3s 3ms/step - loss: 0.1034 - accuracy: 0.9560 - val_loss: 0.0249 - val_accuracy: 0.9928\n",
      "Epoch 98/100\n",
      "742/742 [==============================] - 3s 4ms/step - loss: 0.1321 - accuracy: 0.9510 - val_loss: 0.0207 - val_accuracy: 0.9964\n",
      "Epoch 99/100\n",
      "742/742 [==============================] - 3s 4ms/step - loss: 0.1159 - accuracy: 0.9546 - val_loss: 0.0173 - val_accuracy: 0.9982\n",
      "Epoch 100/100\n",
      "742/742 [==============================] - 3s 4ms/step - loss: 0.1046 - accuracy: 0.9582 - val_loss: 0.0182 - val_accuracy: 0.9982\n"
     ]
    },
    {
     "data": {
      "text/plain": [
       "<keras.callbacks.History at 0x7f87bd7fa190>"
      ]
     },
     "execution_count": 111,
     "metadata": {},
     "output_type": "execute_result"
    }
   ],
   "source": [
    "from tensorflow.keras.metrics import TrueNegatives\n",
    "from tensorflow.keras.metrics import TruePositives\n",
    "\n",
    "model=create_baseline()\n",
    "model.compile(loss='binary_crossentropy',optimizer='nadam', metrics=['accuracy'])\n",
    "model.fit(X1, y1,epochs=100, validation_split=0.2,batch_size=3, verbose=1, class_weight={0:0.8,1:0.2})"
   ]
  },
  {
   "cell_type": "code",
   "execution_count": 112,
   "id": "2180e818",
   "metadata": {},
   "outputs": [
    {
     "name": "stdout",
     "output_type": "stream",
     "text": [
      "13/13 [==============================] - 0s 1ms/step\n",
      "13/13 [==============================] - 0s 1ms/step - loss: 1.8483 - accuracy: 0.7921\n",
      "[1.848253607749939, 0.7920792102813721]\n"
     ]
    }
   ],
   "source": [
    "y_pred = model.predict(X_val)\n",
    "\n",
    "score = model.evaluate(X_val, y_val,verbose=1)\n",
    "print(score)"
   ]
  },
  {
   "cell_type": "code",
   "execution_count": 113,
   "id": "b47c8a81",
   "metadata": {},
   "outputs": [
    {
     "name": "stdout",
     "output_type": "stream",
     "text": [
      "13/13 [==============================] - 0s 1ms/step\n",
      "After Threshold Tuning, results are:\n",
      "\n",
      "F1_macro:0.595 Threshold=0.67\n",
      "\n",
      "\n",
      "\n",
      "The confusion matrix for maxium score is :\n",
      "[[ 19  37]\n",
      " [ 47 301]]\n"
     ]
    }
   ],
   "source": [
    "# Do the Threshold tunign and check for the possible result we can get at any threshold\n",
    "yhat = model.predict(X_val)\n",
    "# keep probabilities for the positive outcome only\n",
    "probs = yhat[:]\n",
    "# define thresholds\n",
    "thresholds = np.arange(0, 1, 0.001)\n",
    "# evaluate each threshold\n",
    "scores = [f1_score(y_val, to_labels(probs, t), average='macro') for t in thresholds]\n",
    "\n",
    "# get best threshold\n",
    "ix = np.argmax(scores)\n",
    "\n",
    "max_score_on_val = scores[ix]\n",
    "#final_model_RF = model\n",
    "y_pred = np.zeros((len(X_val),1), np.uint8)\n",
    "for j in range(len(X_val)):\n",
    "    y_pred[j] = to_labels(probs[j], thresholds[ix])\n",
    "confusion = confusion_matrix(y_val, y_pred)\n",
    "print(\"After Threshold Tuning, results are:\\n\")\n",
    "print('F1_macro:%.3f Threshold=%.2f' % (scores[ix],thresholds[ix]))\n",
    "print(\"\\n\\n\")\n",
    "print(\"The confusion matrix for maxium score is :\")\n",
    "print(confusion)"
   ]
  },
  {
   "cell_type": "code",
   "execution_count": 114,
   "id": "2435d43b",
   "metadata": {},
   "outputs": [
    {
     "name": "stdout",
     "output_type": "stream",
     "text": [
      "              precision    recall  f1-score   support\n",
      "\n",
      "           0       0.29      0.34      0.31        56\n",
      "           1       0.89      0.86      0.88       348\n",
      "\n",
      "    accuracy                           0.79       404\n",
      "   macro avg       0.59      0.60      0.59       404\n",
      "weighted avg       0.81      0.79      0.80       404\n",
      "\n"
     ]
    }
   ],
   "source": [
    "print(classification_report(y_val, y_pred))"
   ]
  },
  {
   "cell_type": "markdown",
   "id": "a7e75ac1",
   "metadata": {},
   "source": [
    "### Performing Nested Cross Validation (Grid Search)"
   ]
  },
  {
   "cell_type": "code",
   "execution_count": 36,
   "id": "cfc2ce88",
   "metadata": {
    "collapsed": true
   },
   "outputs": [
    {
     "name": "stdout",
     "output_type": "stream",
     "text": [
      "Requirement already satisfied: nested-cv in /opt/conda/lib/python3.9/site-packages (0.916)\n",
      "Requirement already satisfied: matplotlib in /opt/conda/lib/python3.9/site-packages (from nested-cv) (3.4.3)\n",
      "Requirement already satisfied: scikit-learn in /opt/conda/lib/python3.9/site-packages (from nested-cv) (1.1.1)\n",
      "Requirement already satisfied: pandas in /opt/conda/lib/python3.9/site-packages (from nested-cv) (1.3.3)\n",
      "Requirement already satisfied: numpy in /opt/conda/lib/python3.9/site-packages (from nested-cv) (1.20.3)\n",
      "Requirement already satisfied: pillow>=6.2.0 in /opt/conda/lib/python3.9/site-packages (from matplotlib->nested-cv) (8.3.2)\n",
      "Requirement already satisfied: kiwisolver>=1.0.1 in /opt/conda/lib/python3.9/site-packages (from matplotlib->nested-cv) (1.3.2)\n",
      "Requirement already satisfied: pyparsing>=2.2.1 in /opt/conda/lib/python3.9/site-packages (from matplotlib->nested-cv) (2.4.7)\n",
      "Requirement already satisfied: python-dateutil>=2.7 in /opt/conda/lib/python3.9/site-packages (from matplotlib->nested-cv) (2.8.2)\n",
      "Requirement already satisfied: cycler>=0.10 in /opt/conda/lib/python3.9/site-packages (from matplotlib->nested-cv) (0.10.0)\n",
      "Requirement already satisfied: six in /opt/conda/lib/python3.9/site-packages (from cycler>=0.10->matplotlib->nested-cv) (1.16.0)\n",
      "Requirement already satisfied: pytz>=2017.3 in /opt/conda/lib/python3.9/site-packages (from pandas->nested-cv) (2021.1)\n",
      "Requirement already satisfied: joblib>=1.0.0 in /opt/conda/lib/python3.9/site-packages (from scikit-learn->nested-cv) (1.0.1)\n",
      "Requirement already satisfied: threadpoolctl>=2.0.0 in /opt/conda/lib/python3.9/site-packages (from scikit-learn->nested-cv) (3.0.0)\n",
      "Requirement already satisfied: scipy>=1.3.2 in /opt/conda/lib/python3.9/site-packages (from scikit-learn->nested-cv) (1.7.1)\n"
     ]
    }
   ],
   "source": [
    "!pip install nested-cv"
   ]
  },
  {
   "cell_type": "code",
   "execution_count": 14,
   "id": "defb8172",
   "metadata": {},
   "outputs": [
    {
     "name": "stdout",
     "output_type": "stream",
     "text": [
      ">acc=0.940, F1_macro=1 est=0.912, cfg={'class_weight': 'balanced', 'min_samples_split': 10, 'n_estimators': 500}\n",
      ">acc=0.897, F1_macro=1 est=0.922, cfg={'class_weight': 'balanced', 'min_samples_split': 10, 'n_estimators': 1000}\n",
      ">acc=0.930, F1_macro=1 est=0.907, cfg={'class_weight': 'balanced', 'min_samples_split': 10, 'n_estimators': 500}\n",
      ">acc=0.917, F1_macro=1 est=0.915, cfg={'class_weight': {0: 0.6, 1: 0.4}, 'min_samples_split': 10, 'n_estimators': 500}\n",
      ">acc=0.917, F1_macro=1 est=0.914, cfg={'class_weight': 'balanced', 'min_samples_split': 10, 'n_estimators': 1000}\n",
      ">acc=0.914, F1_macro=1 est=0.912, cfg={'class_weight': 'balanced', 'min_samples_split': 10, 'n_estimators': 1000}\n",
      ">acc=0.924, F1_macro=1 est=0.916, cfg={'class_weight': 'balanced', 'min_samples_split': 10, 'n_estimators': 1000}\n",
      "Accuracy: 0.920 (0.012)\n",
      "F1_macro: 0.920 (0.012)\n"
     ]
    }
   ],
   "source": [
    "from sklearn.ensemble import RandomForestClassifier\n",
    "from sklearn.model_selection import StratifiedKFold\n",
    "from sklearn.model_selection import GridSearchCV\n",
    "from sklearn.metrics import f1_score\n",
    "from sklearn.metrics import accuracy_score\n",
    "\n",
    "cv_outer = StratifiedKFold(n_splits=7, shuffle=True, random_state=1)\n",
    "# enumerate splits\n",
    "outer_results = list()\n",
    "outer_results_f1 = list()\n",
    "for (i,(train_index, test_index)) in enumerate(cv_outer.split(X1,y1)):\n",
    "    # split data\n",
    "    X_train_outer, X_test_outer = X1.iloc[train_index], X1.iloc[test_index]\n",
    "    y_train_outer, y_test_outer = y1.iloc[train_index], y1.iloc[test_index]\n",
    "    \n",
    "    # configure the cross-validation procedure\n",
    "    cv_inner = StratifiedKFold(n_splits=5, shuffle=True, random_state=1)\n",
    "    # define the model\n",
    "    model = RandomForestClassifier(criterion='log_loss',random_state=1)\n",
    "    # define search space\n",
    "    space = dict()\n",
    "    space['n_estimators'] = [500,1000]\n",
    "    space['min_samples_split'] = [10,20,28]\n",
    "    space['class_weight'] = ['balanced',{0:0.6,1:0.4},{0:0.7,1:0.3}]\n",
    "    \n",
    "    # define search\n",
    "    search = GridSearchCV(model, space, scoring='f1_macro', cv=cv_inner, refit=True)\n",
    "    # execute search\n",
    "    result = search.fit(X_train_outer, y_train_outer)\n",
    "    # get the best performing model fit on the whole training set\n",
    "    best_model = result.best_estimator_\n",
    "    # evaluate model on the hold out dataset\n",
    "    yhat = best_model.predict(X_test_outer)\n",
    "    # evaluate the model\n",
    "    acc = accuracy_score(y_test_outer, yhat)\n",
    "    acc_f1=f1_score(y_test_outer, yhat, average='macro')\n",
    "    # store the result\n",
    "    outer_results.append(acc)\n",
    "    outer_results_f1.append(acc_f1)\n",
    "    \n",
    "    # report progress\n",
    "    print('>acc=%.3f, F1_macro=%.f est=%.3f, cfg=%s' % (acc, acc_f1, result.best_score_, result.best_params_))\n",
    "# summarize the estimated performance of the model\n",
    "print('Accuracy: %.3f (%.3f)' % (np.mean(outer_results), np.std(outer_results)))\n",
    "print('F1_macro: %.3f (%.3f)' % (np.mean(outer_results_f1), np.std(outer_results_f1)))"
   ]
  },
  {
   "cell_type": "code",
   "execution_count": 60,
   "id": "9e1709b8",
   "metadata": {},
   "outputs": [
    {
     "name": "stdout",
     "output_type": "stream",
     "text": [
      "After Threshold Tuning, results are:\n",
      "\n",
      "F1_macro:0.680 Threshold=0.66\n",
      "\n",
      "\n",
      "\n",
      "The confusion matrix for maxium score is :\n",
      "[[ 27  29]\n",
      " [ 36 312]]\n",
      "              precision    recall  f1-score   support\n",
      "\n",
      "           0       0.43      0.48      0.45        56\n",
      "           1       0.91      0.90      0.91       348\n",
      "\n",
      "    accuracy                           0.84       404\n",
      "   macro avg       0.67      0.69      0.68       404\n",
      "weighted avg       0.85      0.84      0.84       404\n",
      "\n"
     ]
    }
   ],
   "source": [
    "from sklearn.model_selection import cross_val_score\n",
    "from sklearn.metrics import confusion_matrix, accuracy_score\n",
    "from sklearn.metrics import classification_report\n",
    "\n",
    "def to_labels(pos_probs, threshold):\n",
    "    return (pos_probs >= threshold).astype('int')\n",
    "\n",
    "best_model = RandomForestClassifier(criterion='log_loss',class_weight= 'balanced', min_samples_split=10,n_estimators=1000)\n",
    "best_model = best_model.fit(X1,y1)\n",
    "# Do the Threshold tunign and check for the possible result we can get at any threshold\n",
    "yhat = best_model.predict_proba(X_val)\n",
    "# keep probabilities for the positive outcome only\n",
    "probs = yhat[:,1]\n",
    "# define thresholds\n",
    "thresholds = np.arange(0, 1, 0.001)\n",
    "# evaluate each threshold\n",
    "scores = [f1_score(y_val, to_labels(probs, t), average='macro') for t in thresholds]\n",
    "\n",
    "# get best threshold\n",
    "ix = np.argmax(scores)\n",
    "\n",
    "max_score_on_val = scores[ix]\n",
    "#final_model_RF = model\n",
    "y_pred = np.zeros((len(X_val),1), np.uint8)\n",
    "for j in range(len(X_val)):\n",
    "    y_pred[j] = to_labels(probs[j], thresholds[ix])\n",
    "confusion = confusion_matrix(y_val, y_pred)\n",
    "print(\"After Threshold Tuning, results are:\\n\")\n",
    "print('F1_macro:%.3f Threshold=%.2f' % (scores[ix],thresholds[ix]))\n",
    "print(\"\\n\\n\")\n",
    "print(\"The confusion matrix for maxium score is :\")\n",
    "print(confusion)\n",
    "print(classification_report(y_val, y_pred))"
   ]
  },
  {
   "cell_type": "markdown",
   "id": "8e9b0a64",
   "metadata": {},
   "source": [
    "### Visualizing the developed RF "
   ]
  },
  {
   "cell_type": "code",
   "execution_count": 44,
   "id": "03aea780",
   "metadata": {},
   "outputs": [
    {
     "name": "stdout",
     "output_type": "stream",
     "text": [
      "Collecting graphviz\n",
      "  Downloading graphviz-0.20-py3-none-any.whl (46 kB)\n",
      "\u001b[K     |████████████████████████████████| 46 kB 512 kB/s eta 0:00:01\n",
      "\u001b[?25hInstalling collected packages: graphviz\n",
      "Successfully installed graphviz-0.20\n"
     ]
    }
   ],
   "source": [
    "!pip install graphviz"
   ]
  },
  {
   "cell_type": "code",
   "execution_count": 1,
   "id": "cc891ba9",
   "metadata": {},
   "outputs": [
    {
     "name": "stdout",
     "output_type": "stream",
     "text": [
      "Tree here !\n"
     ]
    }
   ],
   "source": [
    "import matplotlib.pyplot as plt\n",
    "from sklearn.tree import plot_tree\n",
    "\n",
    "fig = plt.figure(figsize=(15, 10))\n",
    "data = plot_tree(best_model.estimators_[900], \n",
    "          feature_names=X1.columns,\n",
    "          class_names=['0','1'], \n",
    "          filled=True, impurity=True, \n",
    "          rounded=True)\n",
    "fig.savefig('rf_individualtree.png', dpi=500)"
   ]
  },
  {
   "cell_type": "code",
   "execution_count": null,
   "id": "7a303cbe",
   "metadata": {},
   "outputs": [],
   "source": [
    "graph = graphviz.Source(data, format='png')\n",
    "graph"
   ]
  },
  {
   "cell_type": "markdown",
   "id": "bb4f3179",
   "metadata": {},
   "source": [
    "### XG Boost"
   ]
  },
  {
   "cell_type": "code",
   "execution_count": null,
   "id": "073f175a",
   "metadata": {},
   "outputs": [],
   "source": []
  },
  {
   "cell_type": "code",
   "execution_count": 60,
   "id": "9a5c1452",
   "metadata": {},
   "outputs": [
    {
     "name": "stdout",
     "output_type": "stream",
     "text": [
      ">acc=0.915, F1_macro=1 est=0.911, cfg={'gamma': 2, 'max_depth': 5, 'subsample': 0.6}\n",
      ">acc=0.910, F1_macro=1 est=0.917, cfg={'gamma': 0.5, 'max_depth': 5, 'subsample': 0.8}\n",
      ">acc=0.922, F1_macro=1 est=0.909, cfg={'gamma': 0.5, 'max_depth': 5, 'subsample': 0.8}\n",
      ">acc=0.917, F1_macro=1 est=0.910, cfg={'gamma': 0.5, 'max_depth': 5, 'subsample': 0.8}\n",
      ">acc=0.914, F1_macro=1 est=0.912, cfg={'gamma': 0.5, 'max_depth': 5, 'subsample': 0.8}\n",
      ">acc=0.909, F1_macro=1 est=0.910, cfg={'gamma': 0.5, 'max_depth': 5, 'subsample': 1.0}\n",
      ">acc=0.904, F1_macro=1 est=0.908, cfg={'gamma': 1, 'max_depth': 4, 'subsample': 0.6}\n",
      "Accuracy: 0.913 (0.005)\n",
      "F1_macro: 0.913 (0.005)\n"
     ]
    }
   ],
   "source": [
    "from xgboost import XGBClassifier\n",
    "from sklearn.model_selection import StratifiedKFold\n",
    "from sklearn.model_selection import GridSearchCV\n",
    "from sklearn.metrics import f1_score\n",
    "from sklearn.metrics import accuracy_score\n",
    "\n",
    "cv_outer = StratifiedKFold(n_splits=7, shuffle=True, random_state=1)\n",
    "\n",
    "X1.rename( columns={'Economic Status_Part Time Work (<30 hrs)':'Economic Status_Part Time Work lt 30 hrs' } ,inplace=True) \n",
    "X_val.rename( columns={'Economic Status_Part Time Work (<30 hrs)':'Economic Status_Part Time Work lt 30 hrs' } ,inplace=True) \n",
    "\n",
    "# enumerate splits\n",
    "#'min_child_weight': [1, 5, 10],\n",
    "#'colsample_bytree': [0.6, 0.8, 1.0],\n",
    "\n",
    "outer_results = list()\n",
    "outer_results_f1 = list()\n",
    "for (i,(train_index, test_index)) in enumerate(cv_outer.split(X1,y1)):\n",
    "    # split data\n",
    "    X_train_outer, X_test_outer = X1.iloc[train_index], X1.iloc[test_index]\n",
    "    y_train_outer, y_test_outer = y1.iloc[train_index], y1.iloc[test_index]\n",
    "    \n",
    "    # configure the cross-validation procedure\n",
    "    cv_inner = StratifiedKFold(n_splits=5, shuffle=True, random_state=1)\n",
    "    # define the model\n",
    "    model = XGBClassifier(random_state=1)\n",
    "    # define search space\n",
    "    params = {\n",
    "        'gamma': [0.5, 1, 1.5, 2, 5],\n",
    "        'subsample': [0.6, 0.8, 1.0],\n",
    "        'max_depth': [3, 4, 5]\n",
    "        }\n",
    "    # define search\n",
    "    search = GridSearchCV(model, params, scoring='f1_macro', cv=cv_inner, refit=True)\n",
    "    # execute search\n",
    "    result = search.fit(X_train_outer, y_train_outer)\n",
    "    # get the best performing model fit on the whole training set\n",
    "    best_model = result.best_estimator_\n",
    "    # evaluate model on the hold out dataset\n",
    "    yhat = best_model.predict(X_test_outer)\n",
    "    # evaluate the model\n",
    "    acc = accuracy_score(y_test_outer, yhat)\n",
    "    acc_f1=f1_score(y_test_outer, yhat, average='macro')\n",
    "    # store the result\n",
    "    outer_results.append(acc)\n",
    "    outer_results_f1.append(acc_f1)\n",
    "    # report progress\n",
    "    print('>acc=%.3f, F1_macro=%.f est=%.3f, cfg=%s' % (acc, acc_f1, result.best_score_, result.best_params_))\n",
    "# summarize the estimated performance of the model\n",
    "print('Accuracy: %.3f (%.3f)' % (np.mean(outer_results), np.std(outer_results)))\n",
    "print('F1_macro: %.3f (%.3f)' % (np.mean(outer_results_f1), np.std(outer_results_f1)))"
   ]
  },
  {
   "cell_type": "code",
   "execution_count": 61,
   "id": "131f73b7",
   "metadata": {},
   "outputs": [
    {
     "name": "stdout",
     "output_type": "stream",
     "text": [
      "After Threshold Tuning, results are:\n",
      "\n",
      "F1_macro:0.640 Threshold=0.59\n",
      "\n",
      "\n",
      "\n",
      "The confusion matrix for maxium score is :\n",
      "[[ 21  35]\n",
      " [ 34 314]]\n",
      "              precision    recall  f1-score   support\n",
      "\n",
      "           0       0.38      0.38      0.38        56\n",
      "           1       0.90      0.90      0.90       348\n",
      "\n",
      "    accuracy                           0.83       404\n",
      "   macro avg       0.64      0.64      0.64       404\n",
      "weighted avg       0.83      0.83      0.83       404\n",
      "\n"
     ]
    }
   ],
   "source": [
    "from sklearn.model_selection import cross_val_score\n",
    "from sklearn.metrics import confusion_matrix, accuracy_score\n",
    "from sklearn.metrics import classification_report\n",
    "\n",
    "def to_labels(pos_probs, threshold):\n",
    "    return (pos_probs >= threshold).astype('int')\n",
    "\n",
    "# Do the Threshold tunign and check for the possible result we can get at any threshold\n",
    "yhat = best_model.predict_proba(X_val)\n",
    "\n",
    "# keep probabilities for the positive outcome only\n",
    "probs = yhat[:, 1]\n",
    "# define thresholds\n",
    "thresholds = np.arange(0, 1, 0.001)\n",
    "# evaluate each threshold\n",
    "scores = [f1_score(y_val, to_labels(probs, t), average='macro') for t in thresholds]\n",
    "\n",
    "# get best threshold\n",
    "ix = np.argmax(scores)\n",
    "\n",
    "max_score_on_val = scores[ix]\n",
    "#final_model_RF = model\n",
    "y_pred = np.zeros((len(X_val),1), np.uint8)\n",
    "for j in range(len(X_val)):\n",
    "    y_pred[j] = to_labels(probs[j], thresholds[ix])\n",
    "confusion = confusion_matrix(y_val, y_pred)\n",
    "print(\"After Threshold Tuning, results are:\\n\")\n",
    "print('F1_macro:%.3f Threshold=%.2f' % (scores[ix],thresholds[ix]))\n",
    "print(\"\\n\\n\")\n",
    "print(\"The confusion matrix for maxium score is :\")\n",
    "print(confusion)\n",
    "print(classification_report(y_val, y_pred))"
   ]
  },
  {
   "cell_type": "code",
   "execution_count": null,
   "id": "f62e8639",
   "metadata": {},
   "outputs": [],
   "source": []
  },
  {
   "cell_type": "code",
   "execution_count": 40,
   "id": "2c4612fc",
   "metadata": {},
   "outputs": [
    {
     "name": "stdout",
     "output_type": "stream",
     "text": [
      "0.9193247904517765\n",
      "[{}, {}, {}, {}, {}]\n",
      "0.9102635829739191\n",
      "[{}, {}, {}, {}, {}]\n",
      "0.9073025378849258\n",
      "[{}, {}, {}, {}, {}]\n",
      "0.8976372560480339\n",
      "[{}, {}, {}, {}, {}]\n",
      "0.8863616980729576\n",
      "[{}, {}, {}, {}, {}]\n",
      "0.8919576305433898\n",
      "[{}, {}, {}, {}, {}]\n",
      "0.9073251721235384\n",
      "[{}, {}, {}, {}, {}]\n",
      "0.7051969194919901\n",
      "[{}, {}, {}, {}, {}]\n"
     ]
    }
   ],
   "source": [
    "from xgboost import XGBClassifier\n",
    "from nested_cv import NestedCV\n",
    "from sklearn.ensemble import RandomForestClassifier\n",
    "from sklearn.neural_network import MLPClassifier\n",
    "from sklearn.neighbors import KNeighborsClassifier\n",
    "from sklearn.svm import SVC\n",
    "from sklearn.ensemble import AdaBoostClassifier\n",
    "from sklearn.naive_bayes import GaussianNB\n",
    "from sklearn.discriminant_analysis import QuadraticDiscriminantAnalysis\n",
    "from sklearn.gaussian_process.kernels import RBF\n",
    "from sklearn.metrics import f1_score\n",
    "\n",
    "models_to_run = [RandomForestClassifier(), XGBClassifier(), MLPClassifier(), KNeighborsClassifier(), SVC(), \n",
    "                 AdaBoostClassifier(),GaussianNB(), QuadraticDiscriminantAnalysis()]\n",
    "\n",
    "models_param_grid = [ \n",
    "                    {},{},{},{},{},{},{},{}\n",
    "                    ]\n",
    "\n",
    "for i,model in enumerate(models_to_run):\n",
    "    nested_CV_search = NestedCV(model=model, params_grid=models_param_grid[i],\n",
    "                                outer_kfolds=5, inner_kfolds=5,\n",
    "                                cv_options={'metric':f1_score})\n",
    "    \n",
    "    nested_CV_search.fit(X=X1,y=y1)\n",
    "    model_param_grid = nested_CV_search.best_params\n",
    "\n",
    "    print(np.mean(nested_CV_search.outer_scores))\n",
    "    print(nested_CV_search.best_inner_params_list)"
   ]
  },
  {
   "cell_type": "code",
   "execution_count": null,
   "id": "af748b56",
   "metadata": {},
   "outputs": [],
   "source": []
  }
 ],
 "metadata": {
  "kernelspec": {
   "display_name": "Python 3",
   "language": "python",
   "name": "python3"
  },
  "language_info": {
   "codemirror_mode": {
    "name": "ipython",
    "version": 3
   },
   "file_extension": ".py",
   "mimetype": "text/x-python",
   "name": "python",
   "nbconvert_exporter": "python",
   "pygments_lexer": "ipython3",
   "version": "3.9.6"
  }
 },
 "nbformat": 4,
 "nbformat_minor": 5
}
